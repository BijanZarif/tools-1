{
 "metadata": {
  "name": "random_displacement"
 },
 "nbformat": 3,
 "nbformat_minor": 0,
 "worksheets": [
  {
   "cells": [
    {
     "cell_type": "code",
     "collapsed": false,
     "input": [
      "import vtk\n",
      "import numpy as np\n",
      "import matplotlib.pyplot as plt\n",
      "import mpl_toolkits.mplot3d.axes3d as p3"
     ],
     "language": "python",
     "metadata": {},
     "outputs": [],
     "prompt_number": 1
    },
    {
     "cell_type": "code",
     "collapsed": false,
     "input": [
      "reader = vtk.vtkPolyDataReader()\n",
      "reader.SetFileName('transformed.vtk')\n",
      "reader.Update()"
     ],
     "language": "python",
     "metadata": {},
     "outputs": [
      {
       "ename": "NameError",
       "evalue": "name 'reader' is not defined",
       "output_type": "pyerr",
       "traceback": [
        "\u001b[0;31m---------------------------------------------------------------------------\u001b[0m\n\u001b[0;31mNameError\u001b[0m                                 Traceback (most recent call last)",
        "\u001b[0;32m<ipython-input-2-b89207cc7589>\u001b[0m in \u001b[0;36m<module>\u001b[0;34m()\u001b[0m\n\u001b[1;32m      1\u001b[0m \u001b[0mnpoints\u001b[0m \u001b[0;34m=\u001b[0m \u001b[0;36m30\u001b[0m \u001b[0;31m#number of points to deform\u001b[0m\u001b[0;34m\u001b[0m\u001b[0m\n\u001b[0;32m----> 2\u001b[0;31m \u001b[0mptids\u001b[0m \u001b[0;34m=\u001b[0m \u001b[0mnp\u001b[0m\u001b[0;34m.\u001b[0m\u001b[0mrandom\u001b[0m\u001b[0;34m.\u001b[0m\u001b[0mrandint\u001b[0m\u001b[0;34m(\u001b[0m\u001b[0mreader\u001b[0m\u001b[0;34m.\u001b[0m\u001b[0mGetOutput\u001b[0m\u001b[0;34m(\u001b[0m\u001b[0;34m)\u001b[0m\u001b[0;34m.\u001b[0m\u001b[0mGetNumberOfPoints\u001b[0m\u001b[0;34m(\u001b[0m\u001b[0;34m)\u001b[0m\u001b[0;34m,\u001b[0m \u001b[0msize\u001b[0m\u001b[0;34m=\u001b[0m\u001b[0mnpoints\u001b[0m\u001b[0;34m)\u001b[0m \u001b[0;31m#the pints to deform\u001b[0m\u001b[0;34m\u001b[0m\u001b[0m\n\u001b[0m\u001b[1;32m      3\u001b[0m \u001b[0msigma\u001b[0m \u001b[0;34m=\u001b[0m \u001b[0;36m10\u001b[0m \u001b[0;31m#deformation kernel size (in mm)\u001b[0m\u001b[0;34m\u001b[0m\u001b[0m\n\u001b[1;32m      4\u001b[0m \u001b[0mradius\u001b[0m \u001b[0;34m=\u001b[0m \u001b[0msigma\u001b[0m\u001b[0;34m*\u001b[0m\u001b[0;36m3.5\u001b[0m \u001b[0;31m#deformation radius as a function of kernel size\u001b[0m\u001b[0;34m\u001b[0m\u001b[0m\n\u001b[1;32m      5\u001b[0m \u001b[0mdirections\u001b[0m \u001b[0;34m=\u001b[0m \u001b[0mnp\u001b[0m\u001b[0;34m.\u001b[0m\u001b[0mrandom\u001b[0m\u001b[0;34m.\u001b[0m\u001b[0mrandint\u001b[0m\u001b[0;34m(\u001b[0m\u001b[0;36m2\u001b[0m\u001b[0;34m,\u001b[0m \u001b[0msize\u001b[0m\u001b[0;34m=\u001b[0m\u001b[0mnpoints\u001b[0m\u001b[0;34m)\u001b[0m\u001b[0;34m\u001b[0m\u001b[0m\n",
        "\u001b[0;31mNameError\u001b[0m: name 'reader' is not defined"
       ]
      }
     ],
     "prompt_number": 2
    },
    {
     "cell_type": "code",
     "collapsed": false,
     "input": [
      "npoints = 30 #number of points to deform\n",
      "ptids = np.random.randint(reader.GetOutput().GetNumberOfPoints(), size=npoints) #the pints to deform\n",
      "sigma = 10 #deformation kernel size (in mm)\n",
      "radius = sigma*3.5 #deformation radius as a function of kernel size\n",
      "directions = np.random.randint(2, size=npoints)\n",
      "directions[ directions==0 ] = -1  #random inward/outward deformation\n",
      "magnitude = 5 #deformation magnitude in mm"
     ],
     "language": "python",
     "metadata": {},
     "outputs": []
    },
    {
     "cell_type": "code",
     "collapsed": false,
     "input": [
      "normalgen = vtk.vtkPolyDataNormals()\n",
      "normalgen.SetInput( reader.GetOutput() )\n",
      "normalgen.SplittingOff()\n",
      "normalgen.Update()\n",
      "mesh = normalgen.GetOutput()\n",
      "normals = mesh.GetPointData().GetNormals()"
     ],
     "language": "python",
     "metadata": {},
     "outputs": []
    },
    {
     "cell_type": "code",
     "collapsed": false,
     "input": [
      "ploc = vtk.vtkPointLocator()\n",
      "ploc.SetDataSet( normalgen.GetOutput() )\n",
      "ploc.BuildLocator()"
     ],
     "language": "python",
     "metadata": {},
     "outputs": []
    },
    {
     "cell_type": "code",
     "collapsed": false,
     "input": [
      "for j in range(npoints):\n",
      "    ptid = ptids[j]\n",
      "    direction = directions[j]\n",
      "    \n",
      "    #pick the central point for the local deformation\n",
      "    cntr = np.zeros(3)\n",
      "    cntr = mesh.GetPoint(ptid)\n",
      "    \n",
      "    #extract neghborhood points and normals\n",
      "    ptlist = vtk.vtkIdList()\n",
      "    ploc.FindPointsWithinRadius(radius, cntr, ptlist)    \n",
      "    \n",
      "    #copy the points and normals to numpy arrays\n",
      "    pts = np.zeros( ( ptlist.GetNumberOfIds(), 3 ) )\n",
      "    n = np.zeros( ( ptlist.GetNumberOfIds(), 3 ) )\n",
      "    for i in range( ptlist.GetNumberOfIds() ):\n",
      "        mesh.GetPoint( ptlist.GetId(i), pts[i,:] )\n",
      "        normals.GetTuple( ptlist.GetId(i), n[i,:] )\n",
      "    \n",
      "    #deform the neighborhood\n",
      "    dist = np.exp( -((pts-cntr)**2).sum(axis=1) / (2*sigma*sigma) ) \n",
      "    pts1 = pts + n*direction*dist[:,np.newaxis]*magnitude\n",
      "\n",
      "    #store the modified points/update the mesh\n",
      "    for i in range( ptlist.GetNumberOfIds() ):\n",
      "        mesh.GetPoints().SetPoint( ptlist.GetId(i), pts1[i,:] )\n",
      "    mesh.Update()"
     ],
     "language": "python",
     "metadata": {},
     "outputs": []
    },
    {
     "cell_type": "code",
     "collapsed": false,
     "input": [
      "writer = vtk.vtkPolyDataWriter()\n",
      "writer.SetFileName('transformed_local.vtk')\n",
      "writer.SetInput( mesh )\n",
      "writer.SetFileTypeToBinary()\n",
      "writer.Update()"
     ],
     "language": "python",
     "metadata": {},
     "outputs": []
    },
    {
     "cell_type": "code",
     "collapsed": false,
     "input": [
      "#stop here"
     ],
     "language": "python",
     "metadata": {},
     "outputs": []
    },
    {
     "cell_type": "code",
     "collapsed": false,
     "input": [
      "fig=plt.figure()\n",
      "ax = p3.Axes3D(fig)\n",
      "ax.plot_wireframe(pts[:,0],pts[:,1],pts[:,2],color='r')\n",
      "ax.hold()\n",
      "ax.plot_wireframe(pts1[:,0],pts1[:,1],pts1[:,2])\n",
      "plt.show()"
     ],
     "language": "python",
     "metadata": {},
     "outputs": []
    },
    {
     "cell_type": "code",
     "collapsed": false,
     "input": [],
     "language": "python",
     "metadata": {},
     "outputs": [],
     "prompt_number": 11
    },
    {
     "cell_type": "code",
     "collapsed": false,
     "input": [],
     "language": "python",
     "metadata": {},
     "outputs": [],
     "prompt_number": 21
    },
    {
     "cell_type": "code",
     "collapsed": false,
     "input": [
      "pdmapper = vtk.vtkPolyDataMapper()\n",
      "pdmapper.SetInput( mesh )\n",
      "#pdmapper.SelectColorArray(\"bip\")\n",
      "#pdmapper.ScalarVisibilityOn();\n",
      "#pdmapper.SetScalarModeToUsePointFieldData();\n",
      "pdActor = vtk.vtkActor()\n",
      "pdActor.SetMapper( pdmapper )\n",
      "renderer = vtk.vtkRenderer()\n",
      "renderWindow = vtk.vtkRenderWindow()\n",
      "renderWindow.AddRenderer(renderer)\n",
      "renderWindowInteractor = vtk.vtkRenderWindowInteractor()\n",
      "renderWindowInteractor.SetRenderWindow(renderWindow)\n",
      "renderer.AddActor(pdActor)\n",
      "renderWindow.Render()\n",
      "renderWindowInteractor.Start()"
     ],
     "language": "python",
     "metadata": {},
     "outputs": [],
     "prompt_number": 84
    },
    {
     "cell_type": "code",
     "collapsed": false,
     "input": [],
     "language": "python",
     "metadata": {},
     "outputs": []
    }
   ],
   "metadata": {}
  }
 ]
}