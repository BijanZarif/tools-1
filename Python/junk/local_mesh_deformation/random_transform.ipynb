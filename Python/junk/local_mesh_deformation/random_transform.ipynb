{
 "metadata": {
  "name": "random_transform"
 },
 "nbformat": 3,
 "nbformat_minor": 0,
 "worksheets": [
  {
   "cells": [
    {
     "cell_type": "code",
     "collapsed": false,
     "input": [
      "import vtk\n",
      "import numpy as np"
     ],
     "language": "python",
     "metadata": {},
     "outputs": [],
     "prompt_number": 1
    },
    {
     "cell_type": "code",
     "collapsed": false,
     "input": [
      "max_translation = 10\n",
      "max_rotation = 1"
     ],
     "language": "python",
     "metadata": {},
     "outputs": [],
     "prompt_number": 2
    },
    {
     "cell_type": "code",
     "collapsed": false,
     "input": [
      "reader = vtk.vtkPolyDataReader()\n",
      "reader.SetFileName('mesh.vtk')\n",
      "reader.Update()\n",
      "mesh = reader.GetOutput()"
     ],
     "language": "python",
     "metadata": {},
     "outputs": [],
     "prompt_number": 3
    },
    {
     "cell_type": "code",
     "collapsed": false,
     "input": [
      "#create random scar\n",
      "ptid = np.random.randint(mesh.GetNumberOfPoints()) \n",
      "radius_core = 30 #mm\n",
      "radius_border = 40 #mm\n",
      "healthy_tissue = 0; #scalar value for healthy tissue\n",
      "border_zone = 1;#scalar value for borderzone tissue\n",
      "core_zone = 2;#scalar value for corezone tissue"
     ],
     "language": "python",
     "metadata": {},
     "outputs": [],
     "prompt_number": 4
    },
    {
     "cell_type": "code",
     "collapsed": false,
     "input": [
      "ploc = vtk.vtkPointLocator()\n",
      "ploc.SetDataSet( mesh )\n",
      "ploc.BuildLocator()\n",
      "\n",
      "#pick the central point for the local deformation\n",
      "cntr = np.zeros(3)\n",
      "cntr = mesh.GetPoint(ptid)\n",
      "    \n",
      "#extract neghborhood points and normals\n",
      "ptlist_border = vtk.vtkIdList()\n",
      "ptlist_core = vtk.vtkIdList()\n",
      "ploc.FindPointsWithinRadius(radius_border, cntr, ptlist_border)    \n",
      "ploc.FindPointsWithinRadius(radius_core, cntr, ptlist_core)    \n",
      "\n",
      "#create array with scar scalars and initialize to healthy tissue\n",
      "array = vtk.vtkShortArray()\n",
      "array.SetName('scar')\n",
      "array.SetNumberOfValues(mesh.GetNumberOfPoints())\n",
      "for i in range( mesh.GetNumberOfPoints() ):\n",
      "    array.SetValue(i, healthy_tissue)\n",
      "    \n",
      "for i in range( ptlist_border.GetNumberOfIds() ):\n",
      "    array.SetValue( ptlist_border.GetId(i), border_zone )\n",
      "\n",
      "for i in range( ptlist_core.GetNumberOfIds() ):\n",
      "    array.SetValue( ptlist_core.GetId(i), core_zone )\n",
      "\n",
      "mesh.GetPointData().AddArray(array)"
     ],
     "language": "python",
     "metadata": {},
     "outputs": [
      {
       "output_type": "pyout",
       "prompt_number": 5,
       "text": [
        "3"
       ]
      }
     ],
     "prompt_number": 5
    },
    {
     "cell_type": "code",
     "collapsed": false,
     "input": [
      "#convert point data to cell data\n",
      "pd2cd = vtk.vtkPointDataToCellData()\n",
      "pd2cd.SetInput(mesh)\n",
      "pd2cd.Update()\n",
      "\n",
      "writer = vtk.vtkPolyDataWriter()\n",
      "writer.SetFileName('original.vtk')\n",
      "writer.SetInput( pd2cd.GetOutput() )\n",
      "writer.SetFileTypeToBinary()\n",
      "writer.Update()"
     ],
     "language": "python",
     "metadata": {},
     "outputs": [],
     "prompt_number": 6
    },
    {
     "cell_type": "code",
     "collapsed": false,
     "input": [
      "#apply random similarity transform\n",
      "tform = vtk.vtkTransform()\n",
      "tform.Translate( (np.random.rand(3)-0.5)*2*max_translation )\n",
      "tform.RotateX( (np.random.rand(1)-0.5)*2*max_rotation )\n",
      "tform.RotateY( (np.random.rand(1)-0.5)*2*max_rotation )\n",
      "tform.RotateZ( (np.random.rand(1)-0.5)*2*max_rotation )\n",
      "tform.Update()\n",
      "\n",
      "tform_filter = vtk.vtkTransformPolyDataFilter()\n",
      "tform_filter.SetTransform(tform)\n",
      "tform_filter.SetInput( pd2cd.GetOutput() )\n",
      "tform_filter.Update()"
     ],
     "language": "python",
     "metadata": {},
     "outputs": [],
     "prompt_number": 7
    },
    {
     "cell_type": "code",
     "collapsed": false,
     "input": [
      "#save the result\n",
      "writer = vtk.vtkPolyDataWriter()\n",
      "writer.SetFileName('transformed.vtk')\n",
      "writer.SetInput( tform_filter.GetOutput() )\n",
      "writer.SetFileTypeToBinary()\n",
      "writer.Update()"
     ],
     "language": "python",
     "metadata": {},
     "outputs": [],
     "prompt_number": 8
    },
    {
     "cell_type": "code",
     "collapsed": false,
     "input": [
      "#save the matrix\n",
      "matrix = tform.GetMatrix()\n",
      "np_matrix = np.zeros([4,4])\n",
      "for i in range(4):\n",
      "    for j in range(4):\n",
      "        np_matrix[i,j] = matrix.GetElement(i,j)\n",
      "np.savetxt(\"transform.txt\",np_matrix)"
     ],
     "language": "python",
     "metadata": {},
     "outputs": [],
     "prompt_number": 9
    },
    {
     "cell_type": "code",
     "collapsed": false,
     "input": [],
     "language": "python",
     "metadata": {},
     "outputs": []
    }
   ],
   "metadata": {}
  }
 ]
}