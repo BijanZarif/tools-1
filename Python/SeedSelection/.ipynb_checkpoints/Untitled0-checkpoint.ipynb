{
 "metadata": {
  "name": "",
  "signature": "sha256:6150ab141782b9a2e588fa1c5bcac589e774b6a71814cd7d9115b861dbaf16e4"
 },
 "nbformat": 3,
 "nbformat_minor": 0,
 "worksheets": [
  {
   "cells": [
    {
     "cell_type": "code",
     "collapsed": false,
     "input": [
      "import vtk\n",
      "\n",
      "marker_radius = 1;\n",
      "marker_colors = [(1,0,0), (0,1,0), (0,0,1), (1,1,0)] #different colors for different markers\n",
      "selected_points = vtk.vtkPoints()\n",
      "\n",
      "def close_window(iren):\n",
      "    render_window = iren.GetRenderWindow()\n",
      "    render_window.Finalize()\n",
      "    iren.TerminateApp()\n"
     ],
     "language": "python",
     "metadata": {},
     "outputs": [],
     "prompt_number": 1
    },
    {
     "cell_type": "code",
     "collapsed": false,
     "input": [
      "rd = vtk.vtkPolyDataReader()\n",
      "rd.SetFileName('epi_mesh.vtk')\n",
      "rd.Update()\n",
      "shape = rd.GetOutput()"
     ],
     "language": "python",
     "metadata": {},
     "outputs": [],
     "prompt_number": 21
    },
    {
     "cell_type": "code",
     "collapsed": false,
     "input": [],
     "language": "python",
     "metadata": {},
     "outputs": [],
     "prompt_number": 21
    },
    {
     "cell_type": "code",
     "collapsed": false,
     "input": [],
     "language": "python",
     "metadata": {},
     "outputs": [],
     "prompt_number": 21
    },
    {
     "cell_type": "code",
     "collapsed": false,
     "input": [
      "class MyPointPicker(vtk.vtkPointPicker):\n",
      "  \n",
      "    def __init__(self,parent=None):\n",
      "        self.AddObserver(vtk.vtkCommand.EndPickEvent,self.EndPickEvent)\n",
      "\n",
      " \n",
      "    def EndPickEvent(self,obj,event):\n",
      "        global marker_radius\n",
      "        global selected_points\n",
      "        global marker_colors\n",
      "        rnd = self.GetRenderer()\n",
      "\n",
      "        n_points = selected_points.GetNumberOfPoints();\n",
      "        \n",
      "        #print n_points\n",
      "        #print len(marker_colors)\n",
      "        if n_points < len(marker_colors):\n",
      "            sphereSource = vtk.vtkSphereSource();\n",
      "            sphereSource.SetRadius(marker_radius); \n",
      "            sphereSource.SetCenter(self.GetPickPosition());        \n",
      "\n",
      "            mapper = vtk.vtkPolyDataMapper()\n",
      "            mapper.SetInput(sphereSource.GetOutput())\n",
      "\n",
      "            actor = vtk.vtkActor()\n",
      "            actor.SetMapper(mapper)\n",
      "\n",
      "            print n_points\n",
      "            print marker_colors[n_points]\n",
      "            actor.GetProperty().SetColor(marker_colors[n_points])\n",
      "            rnd.AddActor(actor)\n",
      "\n",
      "            selected_points.InsertNextPoint(pointPicker.GetPickPosition())\n"
     ],
     "language": "python",
     "metadata": {},
     "outputs": [],
     "prompt_number": 22
    },
    {
     "cell_type": "code",
     "collapsed": false,
     "input": [
      "#pointpicker\n",
      "selected_points.Reset()\n",
      "\n",
      "mapper = vtk.vtkPolyDataMapper()\n",
      "mapper.SetInput(shape)\n",
      "\n",
      "actor = vtk.vtkActor()\n",
      "actor.SetMapper(mapper)\n",
      "actor.GetProperty().SetPointSize(1)\n",
      "\n",
      "pointPicker = MyPointPicker()\n",
      "pointPicker.AddPickList(actor)\n",
      "pointPicker.PickFromListOn()\n",
      "    \n",
      "\n",
      "renderer = vtk.vtkRenderer();\n",
      "renderer.AddActor(actor)\n",
      " \n",
      "window = vtk.vtkRenderWindow();\n",
      "window.AddRenderer( renderer );\n",
      "    \n",
      "interactor = vtk.vtkRenderWindowInteractor();\n",
      "interactor.SetRenderWindow( window );\n",
      " \n",
      "interactor_style = vtk.vtkInteractorStyleTrackballCamera() \n",
      "interactor.SetInteractorStyle( interactor_style )\n",
      "interactor.SetPicker(pointPicker); \n",
      "\n",
      "window.SetSize(800,600)\n",
      "window.Render()\n",
      "interactor.Start();\n",
      "\n",
      "\n",
      "close_window(interactor)    \n",
      "del window, interactor\n"
     ],
     "language": "python",
     "metadata": {},
     "outputs": [
      {
       "output_type": "stream",
       "stream": "stdout",
       "text": [
        "0\n",
        "(1, 0, 0)\n",
        "1"
       ]
      },
      {
       "output_type": "stream",
       "stream": "stdout",
       "text": [
        "\n",
        "(0, 1, 0)\n",
        "2"
       ]
      },
      {
       "output_type": "stream",
       "stream": "stdout",
       "text": [
        "\n",
        "(0, 0, 1)\n",
        "3"
       ]
      },
      {
       "output_type": "stream",
       "stream": "stdout",
       "text": [
        "\n",
        "(1, 1, 0)\n"
       ]
      }
     ],
     "prompt_number": 23
    },
    {
     "cell_type": "code",
     "collapsed": false,
     "input": [
      "for i in range(selected_points.GetNumberOfPoints()):\n",
      "    print selected_points.GetPoint(i)"
     ],
     "language": "python",
     "metadata": {},
     "outputs": [
      {
       "output_type": "stream",
       "stream": "stdout",
       "text": [
        "(-31.004241943359375, 49.3594856262207, 109.91728973388672)\n",
        "(-31.004241943359375, 49.3594856262207, 109.91728973388672)\n",
        "(-39.07672882080078, 40.810428619384766, 112.64421081542969)\n",
        "(-50.7435302734375, 28.798633575439453, 108.03536224365234)\n"
       ]
      }
     ],
     "prompt_number": 9
    },
    {
     "cell_type": "code",
     "collapsed": false,
     "input": [
      "a = [(1,2,3),(4,5,6)]"
     ],
     "language": "python",
     "metadata": {},
     "outputs": [],
     "prompt_number": 53
    },
    {
     "cell_type": "code",
     "collapsed": false,
     "input": [
      "a[0]"
     ],
     "language": "python",
     "metadata": {},
     "outputs": [
      {
       "metadata": {},
       "output_type": "pyout",
       "prompt_number": 62,
       "text": [
        "(1, 2, 3)"
       ]
      }
     ],
     "prompt_number": 62
    },
    {
     "cell_type": "code",
     "collapsed": false,
     "input": [],
     "language": "python",
     "metadata": {},
     "outputs": []
    }
   ],
   "metadata": {}
  }
 ]
}