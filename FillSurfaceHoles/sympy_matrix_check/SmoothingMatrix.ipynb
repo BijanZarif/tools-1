{
 "metadata": {
  "name": "",
  "signature": "sha256:46e59ca3cde4ab2ec65e3f11772eaacf9ae3dce68665f68db8c63295d9f4f483"
 },
 "nbformat": 3,
 "nbformat_minor": 0,
 "worksheets": [
  {
   "cells": [
    {
     "cell_type": "code",
     "collapsed": false,
     "input": [
      "#this shows how to construct the matrix for solving U2(v)=0 from the paper\n",
      "import sympy\n",
      "sympy.init_printing() "
     ],
     "language": "python",
     "metadata": {},
     "outputs": [],
     "prompt_number": 2
    },
    {
     "cell_type": "code",
     "collapsed": false,
     "input": [
      "N = 5\n",
      "W = sympy.Matrix(N, N, lambda i,j:sympy.var('w_%d%d' % (i,j)))"
     ],
     "language": "python",
     "metadata": {},
     "outputs": [],
     "prompt_number": 3
    },
    {
     "cell_type": "code",
     "collapsed": false,
     "input": [
      "for i in range(N):\n",
      "    W[i,i]=0\n",
      "    \n",
      "for i in range(N):\n",
      "    for j in range(0,i):\n",
      "        W[i,j]=W[j,i]\n",
      "        "
     ],
     "language": "python",
     "metadata": {},
     "outputs": [],
     "prompt_number": 4
    },
    {
     "cell_type": "code",
     "collapsed": false,
     "input": [
      "W"
     ],
     "language": "python",
     "metadata": {},
     "outputs": [
      {
       "latex": [
        "$$\\left[\\begin{matrix}0 & w_{01} & w_{02} & w_{03} & w_{04}\\\\w_{01} & 0 & w_{12} & w_{13} & w_{14}\\\\w_{02} & w_{12} & 0 & w_{23} & w_{24}\\\\w_{03} & w_{13} & w_{23} & 0 & w_{34}\\\\w_{04} & w_{14} & w_{24} & w_{34} & 0\\end{matrix}\\right]$$"
       ],
       "metadata": {},
       "output_type": "pyout",
       "png": "[encoded data removed]",
       "prompt_number": 5,
       "text": [
        "\u23a1 0   w\u2080\u2081  w\u2080\u2082  w\u2080\u2083  w\u2080\u2084\u23a4\n",
        "\u23a2                       \u23a5\n",
        "\u23a2w\u2080\u2081   0   w\u2081\u2082  w\u2081\u2083  w\u2081\u2084\u23a5\n",
        "\u23a2                       \u23a5\n",
        "\u23a2w\u2080\u2082  w\u2081\u2082   0   w\u2082\u2083  w\u2082\u2084\u23a5\n",
        "\u23a2                       \u23a5\n",
        "\u23a2w\u2080\u2083  w\u2081\u2083  w\u2082\u2083   0   w\u2083\u2084\u23a5\n",
        "\u23a2                       \u23a5\n",
        "\u23a3w\u2080\u2084  w\u2081\u2084  w\u2082\u2084  w\u2083\u2084   0 \u23a6"
       ]
      }
     ],
     "prompt_number": 5
    },
    {
     "cell_type": "code",
     "collapsed": false,
     "input": [
      "V = sympy.Matrix(N, 1, lambda i,j:sympy.var('V_%d' % (i)))\n",
      "V"
     ],
     "language": "python",
     "metadata": {},
     "outputs": [
      {
       "latex": [
        "$$\\left[\\begin{matrix}V_{0}\\\\V_{1}\\\\V_{2}\\\\V_{3}\\\\V_{4}\\end{matrix}\\right]$$"
       ],
       "metadata": {},
       "output_type": "pyout",
       "png": "[encoded data removed]",
       "prompt_number": 6,
       "text": [
        "\u23a1V\u2080\u23a4\n",
        "\u23a2  \u23a5\n",
        "\u23a2V\u2081\u23a5\n",
        "\u23a2  \u23a5\n",
        "\u23a2V\u2082\u23a5\n",
        "\u23a2  \u23a5\n",
        "\u23a2V\u2083\u23a5\n",
        "\u23a2  \u23a5\n",
        "\u23a3V\u2084\u23a6"
       ]
      }
     ],
     "prompt_number": 6
    },
    {
     "cell_type": "code",
     "collapsed": false,
     "input": [
      "#Ones = sympy.Matrix(N, 1, lambda i,j:1)\n",
      "#WW = W*Ones\n",
      "#each diagonal element of this matrix is the sum of W along rows: WW = W*Ones\n",
      "WW = sympy.Matrix(N, 1, lambda i,j:sympy.var('WW_%d' % (i)))\n",
      "WW\n",
      "WWdiag = sympy.Matrix(N, N, lambda i,j: WW[i] if i==j else 0)\n",
      "WWdiagInv = sympy.Matrix(N, N, lambda i,j: 1/WW[i] if i==j else 0)\n",
      "WWdiag"
     ],
     "language": "python",
     "metadata": {},
     "outputs": [
      {
       "latex": [
        "$$\\left[\\begin{matrix}WW_{0} & 0 & 0 & 0 & 0\\\\0 & WW_{1} & 0 & 0 & 0\\\\0 & 0 & WW_{2} & 0 & 0\\\\0 & 0 & 0 & WW_{3} & 0\\\\0 & 0 & 0 & 0 & WW_{4}\\end{matrix}\\right]$$"
       ],
       "metadata": {},
       "output_type": "pyout",
       "png": "[encoded data removed]",
       "prompt_number": 7,
       "text": [
        "\u23a1WW\u2080   0    0    0    0 \u23a4\n",
        "\u23a2                       \u23a5\n",
        "\u23a2 0   WW\u2081   0    0    0 \u23a5\n",
        "\u23a2                       \u23a5\n",
        "\u23a2 0    0   WW\u2082   0    0 \u23a5\n",
        "\u23a2                       \u23a5\n",
        "\u23a2 0    0    0   WW\u2083   0 \u23a5\n",
        "\u23a2                       \u23a5\n",
        "\u23a3 0    0    0    0   WW\u2084\u23a6"
       ]
      }
     ],
     "prompt_number": 7
    },
    {
     "cell_type": "code",
     "collapsed": false,
     "input": [],
     "language": "python",
     "metadata": {},
     "outputs": [],
     "prompt_number": 7
    },
    {
     "cell_type": "code",
     "collapsed": false,
     "input": [
      "#build the system, bruteforce, to compare to the matrix formula\n",
      "def U(k):\n",
      "    return -V[k,0] + (W[k,:]*V)[0]/WW[k]\n",
      "def U2(k):\n",
      "    return -U(k)*WW[k] + (W[k,0]*U(0)+W[k,1]*U(1)+W[k,2]*U(2)+W[k,3]*U(3)+W[k,4]*U(4))\n",
      "#    return -U(k)*WW[k] + (W[k,0]*U(0)+W[k,1]*U(1))\n"
     ],
     "language": "python",
     "metadata": {},
     "outputs": [],
     "prompt_number": 8
    },
    {
     "cell_type": "code",
     "collapsed": false,
     "input": [
      "#this is how the system should look like\n",
      "Syst = sympy.Matrix(N, 1, lambda i,j: U2(i))"
     ],
     "language": "python",
     "metadata": {},
     "outputs": [],
     "prompt_number": 9
    },
    {
     "cell_type": "code",
     "collapsed": false,
     "input": [
      "#A = sympy.Matrix([[w_01**2/WW_1, -2*w_01],[-2*w_01,w_01**2/WW_0]]) #this was in 2x2 case\n",
      "#B = A+WWdiag\n",
      "C = W*WWdiagInv*W.transpose()-2*W+WWdiag"
     ],
     "language": "python",
     "metadata": {},
     "outputs": [],
     "prompt_number": 10
    },
    {
     "cell_type": "code",
     "collapsed": false,
     "input": [
      "#compare the matrices\n",
      "sympy.simplify( C*V-Syst )"
     ],
     "language": "python",
     "metadata": {},
     "outputs": [
      {
       "latex": [
        "$$\\left[\\begin{matrix}0\\\\0\\\\0\\\\0\\\\0\\end{matrix}\\right]$$"
       ],
       "metadata": {},
       "output_type": "pyout",
       "png": "[encoded data removed]",
       "prompt_number": 11,
       "text": [
        "\u23a10\u23a4\n",
        "\u23a2 \u23a5\n",
        "\u23a20\u23a5\n",
        "\u23a2 \u23a5\n",
        "\u23a20\u23a5\n",
        "\u23a2 \u23a5\n",
        "\u23a20\u23a5\n",
        "\u23a2 \u23a5\n",
        "\u23a30\u23a6"
       ]
      }
     ],
     "prompt_number": 11
    },
    {
     "cell_type": "code",
     "collapsed": false,
     "input": [],
     "language": "python",
     "metadata": {},
     "outputs": [],
     "prompt_number": 55
    },
    {
     "cell_type": "code",
     "collapsed": false,
     "input": [],
     "language": "python",
     "metadata": {},
     "outputs": []
    }
   ],
   "metadata": {}
  }
 ]
}