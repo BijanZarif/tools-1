{
 "metadata": {
  "name": "",
  "signature": "sha256:ee21e9196b7b97bbd0d5b467a12e10433556307640b54c8003c87ee41f449b75"
 },
 "nbformat": 3,
 "nbformat_minor": 0,
 "worksheets": [
  {
   "cells": [
    {
     "cell_type": "code",
     "collapsed": false,
     "input": [
      "import vtk\n",
      "import mytools\n",
      "import numpy as np"
     ],
     "language": "python",
     "metadata": {},
     "outputs": [],
     "prompt_number": 1
    },
    {
     "cell_type": "code",
     "collapsed": false,
     "input": [
      "rd = vtk.vtkPolyDataReader()\n",
      "rd.SetFileName('refined.vtk')\n",
      "rd.Update()\n",
      "mesh = rd.GetOutput()"
     ],
     "language": "python",
     "metadata": {},
     "outputs": [],
     "prompt_number": 2
    },
    {
     "cell_type": "code",
     "collapsed": false,
     "input": [
      "v = mytools.ExtractVTKPoints(mesh);\n",
      "f = mytools.ExtractVTKTriFaces(mesh);\n",
      "b = np.array( mytools.GetSurfaceBoundary( f.T ) );"
     ],
     "language": "python",
     "metadata": {},
     "outputs": [],
     "prompt_number": 3
    },
    {
     "cell_type": "code",
     "collapsed": false,
     "input": [
      "#create weight matrix\n",
      "\n",
      "def ComputeWeightMatrix( vertex, faces ):\n",
      "    \"\"\"\n",
      "    Calculates the laplacian of a mesh\n",
      "\n",
      "    vertex 3xN numpy.array: vertices\n",
      "    faces 3xM numpy.array: faces\n",
      "\n",
      "    Return the Laplacian (sparse matrix probably).\n",
      "    \"\"\"\n",
      "    n = vertex.shape[1]\n",
      "    m = faces.shape[1]\n",
      "    \n",
      "    #compute mesh cotan weight matrix\n",
      "    W = sparse.coo_matrix((n,n))\n",
      "    for i in np.arange(1,4,1):\n",
      "        i1 = np.mod(i-1,3)\n",
      "        i2 = np.mod(i  ,3)\n",
      "        i3 = np.mod(i+1,3)\n",
      "        pp = vertex[:,faces[i2,:]] - vertex[:,faces[i1,:]]\n",
      "        qq = vertex[:,faces[i3,:]] - vertex[:,faces[i1,:]]\n",
      "        #% normalize the vectors\n",
      "        pp = pp / np.sqrt(np.sum(pp**2, axis=0))\n",
      "        qq = qq / np.sqrt(np.sum(qq**2, axis=0))\n",
      "\n",
      "        #% compute angles\n",
      "        ang = np.arccos(np.sum(pp*qq, axis=0))\n",
      "        W = W + sparse.coo_matrix( (1 / np.tan(ang),(faces[i2,:],faces[i3,:])), shape=(n, n) )\n",
      "        W = W + sparse.coo_matrix( (1 / np.tan(ang),(faces[i3,:],faces[i2,:])), shape=(n, n) )\n",
      "\n",
      "\n",
      "    #compute laplacian\n",
      "    WW = W.sum(axis=0);\n",
      "    WWDiag = sparse.dia_matrix((WW, 0), shape=(n,n) );\n",
      "    WWDiagInv = sparse.dia_matrix((1/WW, 0), shape=(n,n) );\n",
      "    \n",
      "    C = W*WWDiagInv*W.transpose()-2*W+WWDiag\n",
      "\n",
      "    return C"
     ],
     "language": "python",
     "metadata": {},
     "outputs": [],
     "prompt_number": 18
    },
    {
     "cell_type": "code",
     "collapsed": false,
     "input": [
      "from scipy import sparse\n",
      "import scipy.sparse.linalg as linalg_sp\n",
      "\n",
      "C = ComputeWeightMatrix(v.T, f.T)\n"
     ],
     "language": "python",
     "metadata": {},
     "outputs": [],
     "prompt_number": 19
    },
    {
     "cell_type": "code",
     "collapsed": false,
     "input": [
      "C = C.tolil()\n",
      "C[b,:] = 0;\n",
      "for i in range(b.size):\n",
      "    C[b[i],b[i]] = 1;"
     ],
     "language": "python",
     "metadata": {},
     "outputs": [],
     "prompt_number": 21
    },
    {
     "cell_type": "code",
     "collapsed": false,
     "input": [
      "n = v.shape[0]\n",
      "Rx = np.zeros(n); \n",
      "Rx[b] = v[b,0];\n",
      "Ry = np.zeros(n); \n",
      "Ry[b] = v[b,1];\n",
      "Rz = np.zeros(n); \n",
      "Rz[b] = v[b,2];\n"
     ],
     "language": "python",
     "metadata": {},
     "outputs": [],
     "prompt_number": 29
    },
    {
     "cell_type": "code",
     "collapsed": false,
     "input": [
      "C = C.tocsr()"
     ],
     "language": "python",
     "metadata": {},
     "outputs": [],
     "prompt_number": 31
    },
    {
     "cell_type": "code",
     "collapsed": false,
     "input": [
      "result = np.zeros( (Rx.size, 3) )\n",
      "result[:,0] = linalg_sp.spsolve(C, Rx); #x\n",
      "result[:,1] = linalg_sp.spsolve(C, Ry); #y\n",
      "result[:,2] = linalg_sp.spsolve(C, Rz); #y"
     ],
     "language": "python",
     "metadata": {},
     "outputs": [],
     "prompt_number": 32
    },
    {
     "cell_type": "code",
     "collapsed": false,
     "input": [
      "pd = mytools.CreatePolyData(result, f);\n",
      "mytools.SaveVTKPolyData(pd, \"smoothed.vtk\")"
     ],
     "language": "python",
     "metadata": {},
     "outputs": [],
     "prompt_number": 35
    },
    {
     "cell_type": "code",
     "collapsed": false,
     "input": [],
     "language": "python",
     "metadata": {},
     "outputs": [],
     "prompt_number": 3
    },
    {
     "cell_type": "code",
     "collapsed": false,
     "input": [],
     "language": "python",
     "metadata": {},
     "outputs": [],
     "prompt_number": 3
    },
    {
     "cell_type": "code",
     "collapsed": false,
     "input": [],
     "language": "python",
     "metadata": {},
     "outputs": [],
     "prompt_number": 3
    },
    {
     "cell_type": "code",
     "collapsed": false,
     "input": [],
     "language": "python",
     "metadata": {},
     "outputs": []
    }
   ],
   "metadata": {}
  }
 ]
}