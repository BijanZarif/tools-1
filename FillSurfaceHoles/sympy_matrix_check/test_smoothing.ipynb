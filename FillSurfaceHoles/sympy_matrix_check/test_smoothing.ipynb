{
 "metadata": {
  "name": "",
  "signature": "sha256:b33c90fb664b58c509e95e8a2a07df3b7a7717d38b175e33e75123566cb1f347"
 },
 "nbformat": 3,
 "nbformat_minor": 0,
 "worksheets": [
  {
   "cells": [
    {
     "cell_type": "code",
     "collapsed": false,
     "input": [
      "import vtk\n",
      "import mytools\n",
      "import numpy as np"
     ],
     "language": "python",
     "metadata": {},
     "outputs": [],
     "prompt_number": 1
    },
    {
     "cell_type": "code",
     "collapsed": false,
     "input": [
      "rd = vtk.vtkPolyDataReader()\n",
      "rd.SetFileName('refined.vtk')\n",
      "rd.Update()\n",
      "mesh = rd.GetOutput()"
     ],
     "language": "python",
     "metadata": {},
     "outputs": [],
     "prompt_number": 2
    },
    {
     "cell_type": "code",
     "collapsed": false,
     "input": [
      "v = mytools.ExtractVTKPoints(mesh);\n",
      "f = mytools.ExtractVTKTriFaces(mesh);\n",
      "b = np.array( mytools.GetSurfaceBoundary( f.T ) );"
     ],
     "language": "python",
     "metadata": {},
     "outputs": [],
     "prompt_number": 3
    },
    {
     "cell_type": "code",
     "collapsed": false,
     "input": [
      "#create weight matrix\n",
      "\n",
      "def ComputeWeightMatrix( vertex, faces ):\n",
      "    \"\"\"\n",
      "    Calculates the laplacian of a mesh\n",
      "\n",
      "    vertex 3xN numpy.array: vertices\n",
      "    faces 3xM numpy.array: faces\n",
      "\n",
      "    Return the Laplacian (sparse matrix probably).\n",
      "    \"\"\"\n",
      "    n = vertex.shape[1]\n",
      "    m = faces.shape[1]\n",
      "    \n",
      "    #compute mesh cotan weight matrix\n",
      "    #adapted from Gabriel Peyre\n",
      "    W = sparse.coo_matrix((n,n))\n",
      "    for i in np.arange(1,4,1):\n",
      "        i1 = np.mod(i-1,3)\n",
      "        i2 = np.mod(i  ,3)\n",
      "        i3 = np.mod(i+1,3)\n",
      "        pp = vertex[:,faces[i2,:]] - vertex[:,faces[i1,:]]\n",
      "        qq = vertex[:,faces[i3,:]] - vertex[:,faces[i1,:]]\n",
      "        #% normalize the vectors\n",
      "        pp = pp / np.sqrt(np.sum(pp**2, axis=0))\n",
      "        qq = qq / np.sqrt(np.sum(qq**2, axis=0))\n",
      "        print pp\n",
      "\n",
      "        #% compute angles\n",
      "        ang = np.arccos(np.sum(pp*qq, axis=0))\n",
      "        print ang\n",
      "        W = W + sparse.coo_matrix( (1 / np.tan(ang),(faces[i2,:],faces[i3,:])), shape=(n, n) )\n",
      "        W = W + sparse.coo_matrix( (1 / np.tan(ang),(faces[i3,:],faces[i2,:])), shape=(n, n) )\n",
      "\n",
      "\n",
      "    #compute the system matrix\n",
      "    WW = W.sum(axis=0);\n",
      "    WWDiag = sparse.dia_matrix((WW, 0), shape=(n,n) );\n",
      "    WWDiagInv = sparse.dia_matrix((1/WW, 0), shape=(n,n) );\n",
      "    \n",
      "    C = W*WWDiagInv*W.transpose()-2*W+WWDiag\n",
      "\n",
      "    return C"
     ],
     "language": "python",
     "metadata": {},
     "outputs": [],
     "prompt_number": 6
    },
    {
     "cell_type": "code",
     "collapsed": false,
     "input": [
      "from scipy import sparse\n",
      "import scipy.sparse.linalg as linalg_sp\n",
      "\n",
      "C = ComputeWeightMatrix(v.T, f.T)\n"
     ],
     "language": "python",
     "metadata": {},
     "outputs": [
      {
       "output_type": "stream",
       "stream": "stdout",
       "text": [
        "[[ 0.92387898  0.          0.38268374  0.30680181 -0.43388205  0.23688157\n",
        "  -0.32866563  0.1888459  -0.55283898  0.40137117 -0.42597355  0.30680181]\n",
        " [-0.38268478  0.          0.9238794   0.30680181  0.         -0.86401021\n",
        "   0.79346827 -0.87765999 -0.55283898  0.33620199  0.24450898 -0.30680181]\n",
        " [ 0.          1.          0.          0.90096909 -0.90096968 -0.44426735\n",
        "   0.51223726 -0.44051126  0.62348868 -0.8519797   0.8710694  -0.90096909]]\n",
        "[ 1.73760823  1.03300859  0.53778774  0.82564404  1.15926856  0.91626399\n",
        "  1.03360542  0.78266515  0.79755562  0.58423506  1.09389749  1.02177808]\n",
        "[[-0.85866447 -0.38268374  0.         -0.38268478  0.38268374 -0.30680181\n",
        "   0.42597355 -0.40137117 -0.23688157  0.38268456  0.32866563 -0.13161017]\n",
        " [ 0.11515732  0.9238794   0.          0.92387898 -0.9238794  -0.30680181\n",
        "  -0.24450898 -0.33620199  0.86401021 -0.92387907  0.79346827 -0.96007938]\n",
        " [ 0.49943379  0.         -1.          0.          0.          0.90096909\n",
        "  -0.8710694   0.8519797   0.44426735  0.         -0.51223726  0.24683263]]\n",
        "[ 0.57834038  1.57079633  1.57079633  1.73760823  1.40398417  1.36140256\n",
        "  0.67579936  1.41412324  1.50103426  1.41313251  1.16778853  1.60258897]\n",
        "[[ 0.30680181  0.32866563 -0.32866563  0.11515732 -0.11515732  0.06468448\n",
        "  -0.06468448  0.13161017  0.58371825 -0.58371825  0.03945602 -0.03945602]\n",
        " [ 0.30680181 -0.79346827 -0.79346827 -0.85866447  0.85866447  0.92049402\n",
        "  -0.92049402  0.96007938 -0.20605702  0.20605702 -0.97117873  0.97117873]\n",
        " [-0.90096909 -0.51223726  0.51223726 -0.49943379  0.49943379 -0.38536565\n",
        "   0.38536565 -0.24683263 -0.78537476  0.78537476 -0.23506405  0.23506405]]\n",
        "[ 0.82564404  0.53778774  1.03300859  0.57834038  0.57833992  0.8639261\n",
        "  1.43218788  0.94480426  0.84300277  1.14422509  0.87990663  0.51722561]\n"
       ]
      }
     ],
     "prompt_number": 7
    },
    {
     "cell_type": "code",
     "collapsed": false,
     "input": [
      "C = C.tolil()\n",
      "C[b,:] = 0;\n",
      "for i in range(b.size):\n",
      "    C[b[i],b[i]] = 1;"
     ],
     "language": "python",
     "metadata": {},
     "outputs": [],
     "prompt_number": 21
    },
    {
     "cell_type": "code",
     "collapsed": false,
     "input": [
      "n = v.shape[0]\n",
      "Rx = np.zeros(n); \n",
      "Rx[b] = v[b,0];\n",
      "Ry = np.zeros(n); \n",
      "Ry[b] = v[b,1];\n",
      "Rz = np.zeros(n); \n",
      "Rz[b] = v[b,2];\n"
     ],
     "language": "python",
     "metadata": {},
     "outputs": [],
     "prompt_number": 29
    },
    {
     "cell_type": "code",
     "collapsed": false,
     "input": [
      "C = C.tocsr()"
     ],
     "language": "python",
     "metadata": {},
     "outputs": [],
     "prompt_number": 31
    },
    {
     "cell_type": "code",
     "collapsed": false,
     "input": [
      "result = np.zeros( (Rx.size, 3) )\n",
      "result[:,0] = linalg_sp.spsolve(C, Rx); #x\n",
      "result[:,1] = linalg_sp.spsolve(C, Ry); #y\n",
      "result[:,2] = linalg_sp.spsolve(C, Rz); #y"
     ],
     "language": "python",
     "metadata": {},
     "outputs": [],
     "prompt_number": 32
    },
    {
     "cell_type": "code",
     "collapsed": false,
     "input": [
      "pd = mytools.CreatePolyData(result, f);\n",
      "mytools.SaveVTKPolyData(pd, \"smoothed.vtk\")"
     ],
     "language": "python",
     "metadata": {},
     "outputs": [],
     "prompt_number": 35
    },
    {
     "cell_type": "code",
     "collapsed": false,
     "input": [],
     "language": "python",
     "metadata": {},
     "outputs": [],
     "prompt_number": 3
    },
    {
     "cell_type": "code",
     "collapsed": false,
     "input": [],
     "language": "python",
     "metadata": {},
     "outputs": [],
     "prompt_number": 3
    },
    {
     "cell_type": "code",
     "collapsed": false,
     "input": [],
     "language": "python",
     "metadata": {},
     "outputs": [],
     "prompt_number": 3
    },
    {
     "cell_type": "code",
     "collapsed": false,
     "input": [],
     "language": "python",
     "metadata": {},
     "outputs": []
    }
   ],
   "metadata": {}
  }
 ]
}